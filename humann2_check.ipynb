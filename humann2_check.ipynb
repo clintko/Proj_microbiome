{
 "cells": [
  {
   "cell_type": "markdown",
   "metadata": {},
   "source": [
    "# Check if HUMAnN2 is properly installed"
   ]
  },
  {
   "cell_type": "markdown",
   "metadata": {},
   "source": [
    "## Check the dependencies"
   ]
  },
  {
   "cell_type": "markdown",
   "metadata": {},
   "source": [
    "Requirements of HUMAnN2\n",
    "- MetaPhlAn2 (version <= 2.6.0)\n",
    "- Bowtie2 (version >= 2.1)\n",
    "- Diamond (0.9.0 > version >= 0.8.22)\n",
    "- MinPath\n",
    "- Python (version >= 2.7)\n",
    "\n",
    "NOTE: Bowtie2, Diamond, and MinPath are automatically installed when installing HUMAnN2"
   ]
  },
  {
   "cell_type": "code",
   "execution_count": 11,
   "metadata": {},
   "outputs": [
    {
     "name": "stdout",
     "output_type": "stream",
     "text": [
      "#!/usr/bin/env python\n",
      "# MinPath\n",
      "# developed by Yuzhen Ye (yye@indiana.edu)\n",
      "# Indiana University, Bloomington\n",
      "\n",
      "# what's new in version 1.2 (released on Oct 19, 2010)\n",
      "#  MinPath1.2 works on any pathway system\n",
      "#  what you need: a pathway-function mapping file (e.g, data/ec2path), and your input file\n",
      "\n",
      "# what's new in version 1.1 (released on July 31, 2010) \n",
      "#  * numpy independent\n",
      "#  * add detailed output of ko assignments to each pathway\n",
      "\n",
      "import sys\n",
      "import os\n",
      "import re\n",
      "import operator\n",
      "import math\n",
      "\n"
     ]
    }
   ],
   "source": [
    "head -19 /usr/local/lib/python3.6/dist-packages/humann2/quantify/MinPath12hmp.py"
   ]
  },
  {
   "cell_type": "code",
   "execution_count": 12,
   "metadata": {},
   "outputs": [
    {
     "name": "stdout",
     "output_type": "stream",
     "text": [
      "MetaPhlAn version 2.7.7 (31 May 2018)\n"
     ]
    }
   ],
   "source": [
    "metaphlan2.py --version"
   ]
  },
  {
   "cell_type": "code",
   "execution_count": 13,
   "metadata": {},
   "outputs": [
    {
     "name": "stdout",
     "output_type": "stream",
     "text": [
      "/usr/bin/bowtie2-align-s version 2.2.3\n",
      "64-bit\n",
      "Built on do-dmxp-mac.win.ad.jhu.edu\n",
      "Thu May 29 17:14:09 EDT 2014\n",
      "Compiler: gcc version 4.1.2 20080704 (Red Hat 4.1.2-54)\n",
      "Options: -O3 -m64 -msse2  -funroll-loops -g3 -DPOPCNT_CAPABILITY\n",
      "Sizeof {int, long, long long, void*, size_t, off_t}: {4, 8, 8, 8, 8, 8}\n"
     ]
    }
   ],
   "source": [
    "bowtie2 --version"
   ]
  },
  {
   "cell_type": "markdown",
   "metadata": {},
   "source": [
    "## Run test of HUMAnN2"
   ]
  },
  {
   "cell_type": "code",
   "execution_count": 4,
   "metadata": {},
   "outputs": [
    {
     "name": "stdout",
     "output_type": "stream",
     "text": [
      "test_calculate_percent_identity (basic_tests_nucleotide_search.TestBasicHumann2NucleotideSearchFunctions) ... ok\n",
      "test_calculate_percent_identity_insert_delete (basic_tests_nucleotide_search.TestBasicHumann2NucleotideSearchFunctions) ... ok\n",
      "test_calculate_percent_identity_missing_cigar_identifier (basic_tests_nucleotide_search.TestBasicHumann2NucleotideSearchFunctions) ... ok\n",
      "test_calculate_percent_identity_missing_md_field (basic_tests_nucleotide_search.TestBasicHumann2NucleotideSearchFunctions) ... ok\n",
      "test_calculate_percent_identity_multiple_M_cigar_fields (basic_tests_nucleotide_search.TestBasicHumann2NucleotideSearchFunctions) ... ok\n",
      "test_calculate_percent_identity_simple_cigar_string (basic_tests_nucleotide_search.TestBasicHumann2NucleotideSearchFunctions) ... ok\n",
      "test_calculate_percent_identity_simple_md_field (basic_tests_nucleotide_search.TestBasicHumann2NucleotideSearchFunctions) ... ok\n",
      "test_calculate_percent_identity_two_match_mismatch_identifiers (basic_tests_nucleotide_search.TestBasicHumann2NucleotideSearchFunctions) ... ok\n",
      "test_find_md_field (basic_tests_nucleotide_search.TestBasicHumann2NucleotideSearchFunctions) ... ok\n",
      "test_find_md_field_missing_column (basic_tests_nucleotide_search.TestBasicHumann2NucleotideSearchFunctions) ... ok\n",
      "test_gap_fill_all_required_reactions (basic_tests_quantify_modules.TestHumann2QuantifyModulesFunctions) ... ok\n",
      "test_gap_fill_all_required_reactions_one_optional (basic_tests_quantify_modules.TestHumann2QuantifyModulesFunctions) ... ok\n",
      "test_gap_fill_all_required_two_lowest_scores (basic_tests_quantify_modules.TestHumann2QuantifyModulesFunctions) ... ok\n",
      "test_gap_fill_equal_threshold (basic_tests_quantify_modules.TestHumann2QuantifyModulesFunctions) ... ok\n",
      "test_gap_fill_greater_than_threshold (basic_tests_quantify_modules.TestHumann2QuantifyModulesFunctions) ... ok\n",
      "test_gap_fill_optional_reactions_equal_threshold (basic_tests_quantify_modules.TestHumann2QuantifyModulesFunctions) ... ok\n",
      "test_gap_fill_optional_reactions_greater_than_threshold (basic_tests_quantify_modules.TestHumann2QuantifyModulesFunctions) ... ok\n",
      "test_gap_fill_optional_reactions_zero_gaps (basic_tests_quantify_modules.TestHumann2QuantifyModulesFunctions) ... ok\n",
      "test_gap_fill_zero_gaps (basic_tests_quantify_modules.TestHumann2QuantifyModulesFunctions) ... ok\n",
      "test_harmonic_mean (basic_tests_quantify_modules.TestHumann2QuantifyModulesFunctions) ... ok\n",
      "test_harmonic_mean_empty_list (basic_tests_quantify_modules.TestHumann2QuantifyModulesFunctions) ... ok\n",
      "test_harmonic_mean_one_zero (basic_tests_quantify_modules.TestHumann2QuantifyModulesFunctions) ... ok\n",
      "test_Alignments_add_bug_count (basic_tests_store.TestHumann2StoreFunctions) ... ok\n",
      "test_Alignments_add_bug_list (basic_tests_store.TestHumann2StoreFunctions) ... ok\n",
      "test_Alignments_add_gene_count (basic_tests_store.TestHumann2StoreFunctions) ... ok\n",
      "test_Alignments_add_gene_lengths (basic_tests_store.TestHumann2StoreFunctions) ... ok\n",
      "test_Alignments_add_gene_lengths_with_read_length_normalization (basic_tests_store.TestHumann2StoreFunctions) ... ok\n",
      "test_Alignments_add_gene_lengths_with_temp_alignment_file (basic_tests_store.TestHumann2StoreFunctions) ... ok\n",
      "test_Alignments_add_gene_list (basic_tests_store.TestHumann2StoreFunctions) ... ok\n",
      "test_Alignments_process_chocophlan_length (basic_tests_store.TestHumann2StoreFunctions) ... ok\n",
      "test_Alignments_process_chocophlan_length_multiple (basic_tests_store.TestHumann2StoreFunctions) ... ok\n",
      "test_Alignments_process_reference_annotation_gene_length (basic_tests_store.TestHumann2StoreFunctions) ... ok\n",
      "test_Alignments_process_reference_annotation_gene_length_reversed (basic_tests_store.TestHumann2StoreFunctions) ... ok\n",
      "test_Alignments_process_reference_annotation_gene_length_with_bug (basic_tests_store.TestHumann2StoreFunctions) ... ok\n",
      "test_Alignments_process_reference_annotation_new_chocophlan_annotations (basic_tests_store.TestHumann2StoreFunctions) ... ok\n",
      "test_Alignments_process_reference_annotation_numerical_gene_length (basic_tests_store.TestHumann2StoreFunctions) ... ok\n",
      "test_Alignments_process_reference_annotation_original_chocophlan_annotations (basic_tests_store.TestHumann2StoreFunctions) ... ok\n",
      "test_Alignments_process_reference_annotation_unknown_annotations_four_items (basic_tests_store.TestHumann2StoreFunctions) ... ok\n",
      "test_Alignments_process_reference_annotation_unknown_annotations_three_items_bug_int (basic_tests_store.TestHumann2StoreFunctions) ... ok\n",
      "test_Alignments_process_reference_annotation_unknown_annotations_three_items_length_string (basic_tests_store.TestHumann2StoreFunctions) ... ok\n",
      "test_GeneScores_add (basic_tests_store.TestHumann2StoreFunctions) ... ok\n",
      "test_GeneScores_add_from_file_bug_list (basic_tests_store.TestHumann2StoreFunctions) ... ok\n",
      "test_GeneScores_add_from_file_gene_list (basic_tests_store.TestHumann2StoreFunctions) ... ok\n",
      "test_GeneScores_add_from_file_scores (basic_tests_store.TestHumann2StoreFunctions) ... ok\n",
      "test_GeneScores_add_second_set (basic_tests_store.TestHumann2StoreFunctions) ... ok\n",
      "test_GeneScores_get_score (basic_tests_store.TestHumann2StoreFunctions) ... ok\n",
      "test_GeneScores_get_score_second_set (basic_tests_store.TestHumann2StoreFunctions) ... ok\n",
      "test_GeneScores_scores_for_bug (basic_tests_store.TestHumann2StoreFunctions) ... ok\n",
      "test_PathwaysAndReactions_max_median_score_even_number_vary_pathways (basic_tests_store.TestHumann2StoreFunctions) ... ok\n",
      "test_PathwaysAndReactions_max_median_score_even_number_vary_reactions (basic_tests_store.TestHumann2StoreFunctions) ... ok\n",
      "test_PathwaysAndReactions_max_median_score_odd_number_vary_pathways (basic_tests_store.TestHumann2StoreFunctions) ... ok\n",
      "test_PathwaysAndReactions_max_median_score_odd_number_vary_reactions (basic_tests_store.TestHumann2StoreFunctions) ... ok\n",
      "test_PathwaysAndReactions_median_score_even_number_vary_pathways (basic_tests_store.TestHumann2StoreFunctions) ... ok\n",
      "test_PathwaysAndReactions_median_score_even_number_vary_reactions (basic_tests_store.TestHumann2StoreFunctions) ... ok\n",
      "test_PathwaysAndReactions_median_score_odd_number_vary_pathways (basic_tests_store.TestHumann2StoreFunctions) ... ok\n",
      "test_PathwaysAndReactions_median_score_odd_number_vary_reactions (basic_tests_store.TestHumann2StoreFunctions) ... ok\n",
      "test_PathwaysDatabase_add_pathway_structure_test_key_reactions_contraction (basic_tests_store.TestHumann2StoreFunctions) ... ok\n",
      "test_PathwaysDatabase_add_pathway_structure_test_key_reactions_expansion (basic_tests_store.TestHumann2StoreFunctions) ... ok\n",
      "test_PathwaysDatabase_add_pathway_structure_test_key_reactions_with_optional_indicator (basic_tests_store.TestHumann2StoreFunctions) ... ok\n",
      "test_PathwaysDatabase_add_pathway_structure_test_reaction_list_contraction (basic_tests_store.TestHumann2StoreFunctions) ... ok\n",
      "test_PathwaysDatabase_add_pathway_structure_test_reaction_list_expansion (basic_tests_store.TestHumann2StoreFunctions) ... ok\n",
      "test_PathwaysDatabase_add_pathway_structure_test_structure_contraction (basic_tests_store.TestHumann2StoreFunctions) ... ok\n",
      "test_PathwaysDatabase_add_pathway_structure_test_structure_expansion (basic_tests_store.TestHumann2StoreFunctions) ... ok\n",
      "test_PathwaysDatabase_print_flat_file_pathways_count (basic_tests_store.TestHumann2StoreFunctions) ... ok\n",
      "test_PathwaysDatabase_print_flat_file_pathways_list (basic_tests_store.TestHumann2StoreFunctions) ... ok\n",
      "test_PathwaysDatabase_print_flat_file_reactions_list (basic_tests_store.TestHumann2StoreFunctions) ... ok\n",
      "test_PathwaysDatabase_read_pathways_count (basic_tests_store.TestHumann2StoreFunctions) ... ok\n",
      "test_PathwaysDatabase_read_pathways_ids (basic_tests_store.TestHumann2StoreFunctions) ... ok\n",
      "test_PathwaysDatabase_read_reactions_count (basic_tests_store.TestHumann2StoreFunctions) ... ok\n",
      "test_PathwaysDatabase_read_reactions_ids (basic_tests_store.TestHumann2StoreFunctions) ... ok\n",
      "test_PathwaysDatabase_read_reactions_list (basic_tests_store.TestHumann2StoreFunctions) ... ok\n",
      "test_ReactionsDatabase_read_gene_list (basic_tests_store.TestHumann2StoreFunctions) ... ok\n",
      "test_ReactionsDatabase_read_reactions_count (basic_tests_store.TestHumann2StoreFunctions) ... ok\n",
      "test_Read_add_count_reads_duplicate (basic_tests_store.TestHumann2StoreFunctions) ... ok\n",
      "test_Read_add_count_reads_duplicate_minimize_memory_use (basic_tests_store.TestHumann2StoreFunctions) ... ok\n",
      "test_Read_delete_id (basic_tests_store.TestHumann2StoreFunctions) ... ok\n",
      "test_Read_delete_id_minimize_memory_use (basic_tests_store.TestHumann2StoreFunctions) ... ok\n",
      "test_Read_print_fasta_count_reads (basic_tests_store.TestHumann2StoreFunctions) ... ok\n",
      "test_Read_print_fasta_count_reads_minimize_memory_use (basic_tests_store.TestHumann2StoreFunctions) ... ok\n",
      "test_Read_print_fasta_id_count (basic_tests_store.TestHumann2StoreFunctions) ... ok\n",
      "test_Read_print_fasta_id_list (basic_tests_store.TestHumann2StoreFunctions) ... ok\n",
      "test_Read_print_fasta_id_list_minimize_memory_use (basic_tests_store.TestHumann2StoreFunctions) ... ok\n",
      "test_Read_print_fasta_sequence_list (basic_tests_store.TestHumann2StoreFunctions) ... ok\n",
      "test_Read_print_fasta_sequence_list_minimize_memory_use (basic_tests_store.TestHumann2StoreFunctions) ... ok\n",
      "test_add_length_annotation (basic_tests_utilities.TestHumann2UtilitiesFunctions) ... ok\n",
      "test_add_length_annotation_spaces (basic_tests_utilities.TestHumann2UtilitiesFunctions) ... ok\n",
      "test_break_up_fasta_file (basic_tests_utilities.TestHumann2UtilitiesFunctions) ... ok\n",
      "test_count_reads_fasta (basic_tests_utilities.TestHumann2UtilitiesFunctions) ... ok\n",
      "test_count_reads_fastq (basic_tests_utilities.TestHumann2UtilitiesFunctions) ... ok\n",
      "test_determine_file_format_bam (basic_tests_utilities.TestHumann2UtilitiesFunctions) ... ok\n",
      "test_determine_file_format_biom (basic_tests_utilities.TestHumann2UtilitiesFunctions) ... ok\n",
      "test_determine_file_format_fasta (basic_tests_utilities.TestHumann2UtilitiesFunctions) ... ok\n",
      "test_determine_file_format_fasta_gzip (basic_tests_utilities.TestHumann2UtilitiesFunctions) ... ok\n",
      "test_determine_file_format_fastq (basic_tests_utilities.TestHumann2UtilitiesFunctions) ... ok\n",
      "test_determine_file_format_fastq_gzip (basic_tests_utilities.TestHumann2UtilitiesFunctions) ... ok\n",
      "test_determine_file_format_genetable (basic_tests_utilities.TestHumann2UtilitiesFunctions) ... ok\n",
      "test_determine_file_format_rapsearch2_with_header (basic_tests_utilities.TestHumann2UtilitiesFunctions) ... ok\n",
      "test_determine_file_format_rapsearch2_without_header (basic_tests_utilities.TestHumann2UtilitiesFunctions) ... ok\n",
      "test_determine_file_format_sam_with_header (basic_tests_utilities.TestHumann2UtilitiesFunctions) ... ok\n",
      "test_determine_file_format_sam_without_header (basic_tests_utilities.TestHumann2UtilitiesFunctions) ... ok\n",
      "test_determine_file_format_sam_without_header_with_tags (basic_tests_utilities.TestHumann2UtilitiesFunctions) ... ok\n",
      "test_double_sort (basic_tests_utilities.TestHumann2UtilitiesFunctions) ... ok\n",
      "test_double_sort_float (basic_tests_utilities.TestHumann2UtilitiesFunctions) ... ok\n",
      "test_estimate_unaligned_reads_fasta_and_fastq_files (basic_tests_utilities.TestHumann2UtilitiesFunctions) ... ok\n",
      "test_estimate_unaligned_reads_identical_files (basic_tests_utilities.TestHumann2UtilitiesFunctions) ... ok\n",
      "test_fastq_to_fasta (basic_tests_utilities.TestHumann2UtilitiesFunctions) ... ok\n",
      "test_file_exists_readable (basic_tests_utilities.TestHumann2UtilitiesFunctions) ... ok\n",
      "test_file_exists_readable_raise (basic_tests_utilities.TestHumann2UtilitiesFunctions) ... ok\n",
      "test_get_length_annotation (basic_tests_utilities.TestHumann2UtilitiesFunctions) ... ok\n",
      "test_get_length_annotation_multiple_annotations (basic_tests_utilities.TestHumann2UtilitiesFunctions) ... ok\n",
      "test_get_length_annotation_no_length (basic_tests_utilities.TestHumann2UtilitiesFunctions) ... ok\n",
      "test_get_length_annotation_non_int_length (basic_tests_utilities.TestHumann2UtilitiesFunctions) ... ok\n",
      "test_gunzip_file (basic_tests_utilities.TestHumann2UtilitiesFunctions) ... ok\n",
      "test_remove_spaces_from_file (basic_tests_utilities.TestHumann2UtilitiesFunctions) ... ok\n",
      "test_space_in_identifier (basic_tests_utilities.TestHumann2UtilitiesFunctions) ... ok\n",
      "test_space_in_identifier_without_spaces (basic_tests_utilities.TestHumann2UtilitiesFunctions) ... ok\n",
      "test_blastx_coverage (advanced_tests_blastx_coverage.TestBasicHumann2Blastx_CoverageFunctions) ... ok\n",
      "test_blastx_coverage_gene_names_chocophlan_annoation (advanced_tests_blastx_coverage.TestBasicHumann2Blastx_CoverageFunctions) ... ok\n",
      "test_blastx_coverage_gene_names_custom_annotation (advanced_tests_blastx_coverage.TestBasicHumann2Blastx_CoverageFunctions) ... ok\n",
      "test_blastx_coverage_gene_names_default (advanced_tests_blastx_coverage.TestBasicHumann2Blastx_CoverageFunctions) ... ok\n",
      "test_blastx_coverage_gene_names_id_mapping (advanced_tests_blastx_coverage.TestBasicHumann2Blastx_CoverageFunctions) ... ok\n",
      "test_nucleotide_search_unaligned_reads_annotations_bug (advanced_tests_nucleotide_search.TestAdvancedHumann2NucleotideSearchFunctions) ... ok\n",
      "test_nucleotide_search_unaligned_reads_annotations_gene_length (advanced_tests_nucleotide_search.TestAdvancedHumann2NucleotideSearchFunctions) ... ok\n",
      "test_nucleotide_search_unaligned_reads_annotations_reference (advanced_tests_nucleotide_search.TestAdvancedHumann2NucleotideSearchFunctions) ... ok\n",
      "test_nucleotide_search_unaligned_reads_output_blast_format (advanced_tests_nucleotide_search.TestAdvancedHumann2NucleotideSearchFunctions) ... ok\n",
      "test_nucleotide_search_unaligned_reads_output_fasta_format (advanced_tests_nucleotide_search.TestAdvancedHumann2NucleotideSearchFunctions) ... ok\n",
      "test_nucleotide_search_unaligned_reads_read_count_aligned (advanced_tests_nucleotide_search.TestAdvancedHumann2NucleotideSearchFunctions) ... ok\n",
      "test_nucleotide_search_unaligned_reads_read_count_aligned_evalue_threshold (advanced_tests_nucleotide_search.TestAdvancedHumann2NucleotideSearchFunctions) ... ok\n",
      "test_nucleotide_search_unaligned_reads_read_count_aligned_identity_threshold (advanced_tests_nucleotide_search.TestAdvancedHumann2NucleotideSearchFunctions) ... ok\n",
      "test_nucleotide_search_unaligned_reads_read_count_unaligned (advanced_tests_nucleotide_search.TestAdvancedHumann2NucleotideSearchFunctions) ... ok\n",
      "test_nucleotide_search_unaligned_reads_read_count_unaligned_minimize_memory_use (advanced_tests_nucleotide_search.TestAdvancedHumann2NucleotideSearchFunctions) ... ok\n",
      "test_nucleotide_search_unaligned_reads_scores (advanced_tests_nucleotide_search.TestAdvancedHumann2NucleotideSearchFunctions) ... ok\n",
      "test_gene_families_bug_list (advanced_tests_quantify_families.TestAdvancedHumann2QuantifyFamiliesFunctions) ... ok\n",
      "test_gene_families_gene_list (advanced_tests_quantify_families.TestAdvancedHumann2QuantifyFamiliesFunctions) ... ok\n",
      "test_gene_families_tsv_output (advanced_tests_quantify_families.TestAdvancedHumann2QuantifyFamiliesFunctions) ... ok\n",
      "test_gene_families_tsv_output_with_names (advanced_tests_quantify_families.TestAdvancedHumann2QuantifyFamiliesFunctions) ... ok\n",
      "test_compute_gene_abundance_in_pathways_with_reactions_database (advanced_tests_quantify_modules.TestHumann2QuantifyModulesFunctions) ... ok\n",
      "test_compute_gene_abundance_in_pathways_without_reactions_database (advanced_tests_quantify_modules.TestHumann2QuantifyModulesFunctions) ... ok\n",
      "test_compute_pathways_abundance_structured (advanced_tests_quantify_modules.TestHumann2QuantifyModulesFunctions) ... ok\n",
      "test_compute_pathways_abundance_structured_reactions_list (advanced_tests_quantify_modules.TestHumann2QuantifyModulesFunctions) ... ok\n",
      "test_compute_pathways_abundance_unstructured (advanced_tests_quantify_modules.TestHumann2QuantifyModulesFunctions) ... ok\n",
      "test_compute_pathways_abundance_unstructured_reactions_list (advanced_tests_quantify_modules.TestHumann2QuantifyModulesFunctions) ... ok\n",
      "test_compute_pathways_coverage_structured (advanced_tests_quantify_modules.TestHumann2QuantifyModulesFunctions) ... ok\n",
      "test_compute_pathways_coverage_unstructured (advanced_tests_quantify_modules.TestHumann2QuantifyModulesFunctions) ... ok\n",
      "test_compute_structured_pathway_abundance_or_coverage_test_abundance (advanced_tests_quantify_modules.TestHumann2QuantifyModulesFunctions) ... ok\n",
      "test_compute_structured_pathway_abundance_or_coverage_test_abundance_missing_optional_reaction (advanced_tests_quantify_modules.TestHumann2QuantifyModulesFunctions) ... ok\n",
      "test_compute_structured_pathway_abundance_or_coverage_test_abundance_missing_required_reaction (advanced_tests_quantify_modules.TestHumann2QuantifyModulesFunctions) ... ok\n",
      "test_compute_structured_pathway_abundance_or_coverage_test_abundance_with_AND (advanced_tests_quantify_modules.TestHumann2QuantifyModulesFunctions) ... ok\n",
      "test_compute_structured_pathway_abundance_or_coverage_test_abundance_with_OR (advanced_tests_quantify_modules.TestHumann2QuantifyModulesFunctions) ... ok\n",
      "test_compute_structured_pathway_abundance_or_coverage_test_abundance_with_OR_embedded (advanced_tests_quantify_modules.TestHumann2QuantifyModulesFunctions) ... ok\n",
      "test_compute_structured_pathway_abundance_or_coverage_test_coverage (advanced_tests_quantify_modules.TestHumann2QuantifyModulesFunctions) ... ok\n",
      "test_compute_structured_pathway_abundance_or_coverage_test_coverage_missing_optional_reaction (advanced_tests_quantify_modules.TestHumann2QuantifyModulesFunctions) ... ok\n",
      "test_compute_structured_pathway_abundance_or_coverage_test_coverage_missing_required_reaction (advanced_tests_quantify_modules.TestHumann2QuantifyModulesFunctions) ... ok\n",
      "test_compute_unmapped_and_unintegrated (advanced_tests_quantify_modules.TestHumann2QuantifyModulesFunctions) ... ok\n",
      "test_pathways_abundance_with_names (advanced_tests_quantify_modules.TestHumann2QuantifyModulesFunctions) ... ok\n",
      "test_pathways_coverage_with_names (advanced_tests_quantify_modules.TestHumann2QuantifyModulesFunctions) ... ok\n",
      "test_Alignments_compute_gene_scores_double_gene_double_query (advanced_tests_store.TestAdvancedHumann2StoreFunctions) ... ok\n",
      "test_Alignments_compute_gene_scores_double_gene_double_query_with_temp_alignment_file (advanced_tests_store.TestAdvancedHumann2StoreFunctions) ... ok\n",
      "test_Alignments_compute_gene_scores_single_gene_double_query (advanced_tests_store.TestAdvancedHumann2StoreFunctions) ... ok\n",
      "test_Alignments_compute_gene_scores_single_gene_double_query_with_temp_alignment_file (advanced_tests_store.TestAdvancedHumann2StoreFunctions) ... ok\n",
      "test_Alignments_compute_gene_scores_single_gene_single_query (advanced_tests_store.TestAdvancedHumann2StoreFunctions) ... ok\n",
      "test_Alignments_compute_gene_scores_single_gene_single_query_with_temp_alignment_file (advanced_tests_store.TestAdvancedHumann2StoreFunctions) ... ok\n",
      "test_Alignments_id_mapping_all_bug_list (advanced_tests_store.TestAdvancedHumann2StoreFunctions) ... ok\n",
      "test_Alignments_id_mapping_all_bug_list_with_temp_alignment_file (advanced_tests_store.TestAdvancedHumann2StoreFunctions) ... ok\n",
      "test_Alignments_id_mapping_all_gene_list (advanced_tests_store.TestAdvancedHumann2StoreFunctions) ... ok\n",
      "test_Alignments_id_mapping_all_gene_list_with_temp_alignment_file (advanced_tests_store.TestAdvancedHumann2StoreFunctions) ... ok\n",
      "test_Alignments_id_mapping_all_hits (advanced_tests_store.TestAdvancedHumann2StoreFunctions) ... ok\n",
      "test_Alignments_id_mapping_all_hits_with_temp_alignment_file (advanced_tests_store.TestAdvancedHumann2StoreFunctions) ... ok\n",
      "test_Alignments_id_mapping_half_hits (advanced_tests_store.TestAdvancedHumann2StoreFunctions) ... ok\n",
      "test_Alignments_id_mapping_half_hits_with_temp_alignment_file (advanced_tests_store.TestAdvancedHumann2StoreFunctions) ... ok\n",
      "test_GeneScores_add_from_file_id_mapping_bug_list (advanced_tests_store.TestAdvancedHumann2StoreFunctions) ... ok\n",
      "test_GeneScores_add_from_file_id_mapping_gene_list (advanced_tests_store.TestAdvancedHumann2StoreFunctions) ... ok\n",
      "test_PathwaysDatabase_add_pathway_structure_test_key_reactions_not_included_in_reactions_database (advanced_tests_store.TestAdvancedHumann2StoreFunctions) ... ok\n",
      "test_PathwaysDatabase_is_structured_structure (advanced_tests_store.TestAdvancedHumann2StoreFunctions) ... ok\n",
      "test_PathwaysDatabase_is_structured_unstructure (advanced_tests_store.TestAdvancedHumann2StoreFunctions) ... ok\n",
      "test_translated_search_unaligned_reads_annotations_bug (advanced_tests_translated_search.TestAdvancedHumann2TranslatedSearchFunctions) ... ok\n",
      "test_translated_search_unaligned_reads_annotations_gene_length (advanced_tests_translated_search.TestAdvancedHumann2TranslatedSearchFunctions) ... ok\n",
      "test_translated_search_unaligned_reads_annotations_reference (advanced_tests_translated_search.TestAdvancedHumann2TranslatedSearchFunctions) ... ok\n",
      "test_translated_search_unaligned_reads_blastm8 (advanced_tests_translated_search.TestAdvancedHumann2TranslatedSearchFunctions) ... ok\n",
      "test_translated_search_unaligned_reads_blastm8_coverage_filter (advanced_tests_translated_search.TestAdvancedHumann2TranslatedSearchFunctions) ... ok\n",
      "test_translated_search_unaligned_reads_identity_threshold (advanced_tests_translated_search.TestAdvancedHumann2TranslatedSearchFunctions) ... ok\n",
      "test_translated_search_unaligned_reads_rapsearch2_no_log (advanced_tests_translated_search.TestAdvancedHumann2TranslatedSearchFunctions) ... ok\n",
      "test_translated_search_unaligned_reads_rapsearch_log_evalue_threshold (advanced_tests_translated_search.TestAdvancedHumann2TranslatedSearchFunctions) ... ok\n",
      "test_fastq_to_fasta_with_pick_frames (advanced_tests_utilities.TestAdvancedHumann2UtilitiesFunctions) ... ok\n",
      "test_pick_frames_from_fasta (advanced_tests_utilities.TestAdvancedHumann2UtilitiesFunctions) ... ok\n",
      "\n",
      "----------------------------------------------------------------------\n",
      "Ran 185 tests in 12.639s\n",
      "\n",
      "OK\n"
     ]
    }
   ],
   "source": [
    "humann2_test"
   ]
  }
 ],
 "metadata": {
  "kernelspec": {
   "display_name": "Bash",
   "language": "bash",
   "name": "bash"
  },
  "language_info": {
   "codemirror_mode": "shell",
   "file_extension": ".sh",
   "mimetype": "text/x-sh",
   "name": "bash"
  }
 },
 "nbformat": 4,
 "nbformat_minor": 4
}
