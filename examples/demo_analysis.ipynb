{
 "cells": [
  {
   "cell_type": "markdown",
   "metadata": {},
   "source": [
    "## About HUMAnN2 and MetaPhlAn2\n",
    "HUMAnN2 (the HMP Unified Metabolic Analysis Network) is a method for efficiently and accurately determining the presence, absence, and abundance of metabolic pathways in a microbial community from metagenomic or metatranscriptomic sequencing data. It is appropriate for any type of microbial community shotgun sequence profiling (i.e. not just the human microbiome; the name is a historical product of its origin in a Human Microbiome Project working group).\n",
    "\n",
    "MetaPhlAn is a computational tool for profiling the composition of microbial communities (Bacteria, Archaea, Eukaryotes and Viruses) from metagenomic shotgun sequencing data (i.e. not 16S) with species-level. With the newly added StrainPhlAn module, it is now possible to perform accurate strain-level microbial profiling."
   ]
  },
  {
   "cell_type": "markdown",
   "metadata": {},
   "source": [
    "## Link of HUMAnN2 and MetaPhlAn2\n",
    "- [**HUMAnN2 User Manual**](https://bitbucket.org/biobakery/humann2/wiki/Home#markdown-header-main-workflow)\n",
    "    - HUMAnN2 is the next generation of HUMAnN (HMP Unified Metabolic Analysis Network).\n",
    "- [**HUMAnN2 Tutorial**](https://bitbucket.org/biobakery/biobakery/wiki/humann2)\n",
    "    - HUMAnN2 can be installed from PyPI, as source code from the HUMAnN2 Bitbucket repository, or using our quickstart documentation.\n",
    "- [**MetaPhlAn2 User Manual**](https://bitbucket.org/biobakery/metaphlan2/src/default/)\n",
    "    - MetaPhlAn 2: Metagenomic Phylogenetic Analysis\n",
    "- [**MetaPhlAn2 tutorial**](https://bitbucket.org/biobakery/biobakery/wiki/metaphlan2#rst-header-requirements)\n",
    "    - MetaPhlAn2 is a tool for profiling the composition of microbial communities from metagenomic shotgun sequencing data."
   ]
  },
  {
   "cell_type": "markdown",
   "metadata": {},
   "source": [
    "## Demo of HUMAnN2"
   ]
  },
  {
   "cell_type": "code",
   "execution_count": 3,
   "metadata": {},
   "outputs": [
    {
     "name": "stdout",
     "output_type": "stream",
     "text": [
      "demo_analysis.ipynb\n",
      "demo.fastq\n",
      "demo.m8\n",
      "demo.sam\n"
     ]
    }
   ],
   "source": [
    "ls -1 demo*"
   ]
  },
  {
   "cell_type": "code",
   "execution_count": 4,
   "metadata": {},
   "outputs": [
    {
     "name": "stdout",
     "output_type": "stream",
     "text": [
      "Creating output directory: /home/Proj_microbiome/examples/demo_fastq\n",
      "Output files will be written to: /home/Proj_microbiome/examples/demo_fastq\n",
      "\n",
      "Running metaphlan2.py ........\n",
      "\n",
      "Traceback (most recent call last):\n",
      "  File \"/usr/local/bin/humann2\", line 10, in <module>\n",
      "    sys.exit(main())\n",
      "  File \"/usr/local/lib/python3.6/dist-packages/humann2/humann2.py\", line 900, in main\n",
      "    bug_file = prescreen.alignment(args.input)\n",
      "  File \"/usr/local/lib/python3.6/dist-packages/humann2/search/prescreen.py\", line 72, in alignment\n",
      "    utilities.execute_command(exe, args, [input], [bug_file, bowtie2_out])\n",
      "  File \"/usr/local/lib/python3.6/dist-packages/humann2/utilities.py\", line 735, in execute_command\n",
      "    p_out = subprocess.check_output(cmd, stderr=subprocess.STDOUT)\n",
      "  File \"/usr/lib/python3.6/subprocess.py\", line 356, in check_output\n",
      "    **kwargs).stdout\n",
      "  File \"/usr/lib/python3.6/subprocess.py\", line 425, in run\n",
      "    stdout, stderr = process.communicate(input, timeout=timeout)\n",
      "  File \"/usr/lib/python3.6/subprocess.py\", line 850, in communicate\n",
      "    stdout = self.stdout.read()\n",
      "KeyboardInterrupt\n"
     ]
    }
   ],
   "source": [
    "humann2 --input demo.fastq --output demo_fastq"
   ]
  }
 ],
 "metadata": {
  "kernelspec": {
   "display_name": "Bash",
   "language": "bash",
   "name": "bash"
  },
  "language_info": {
   "codemirror_mode": "shell",
   "file_extension": ".sh",
   "mimetype": "text/x-sh",
   "name": "bash"
  }
 },
 "nbformat": 4,
 "nbformat_minor": 4
}
