{
 "cells": [
  {
   "cell_type": "markdown",
   "metadata": {},
   "source": [
    "## About HUMAnN2 and MetaPhlAn2\n",
    "HUMAnN2 (the HMP Unified Metabolic Analysis Network) is a method for efficiently and accurately determining the presence, absence, and abundance of metabolic pathways in a microbial community from metagenomic or metatranscriptomic sequencing data. It is appropriate for any type of microbial community shotgun sequence profiling (i.e. not just the human microbiome; the name is a historical product of its origin in a Human Microbiome Project working group).\n",
    "\n",
    "MetaPhlAn is a computational tool for profiling the composition of microbial communities (Bacteria, Archaea, Eukaryotes and Viruses) from metagenomic shotgun sequencing data (i.e. not 16S) with species-level. With the newly added StrainPhlAn module, it is now possible to perform accurate strain-level microbial profiling."
   ]
  },
  {
   "cell_type": "markdown",
   "metadata": {},
   "source": [
    "## Link of HUMAnN2 and MetaPhlAn2\n",
    "- [**HUMAnN2 User Manual**](https://bitbucket.org/biobakery/humann2/wiki/Home#markdown-header-main-workflow)\n",
    "    - HUMAnN2 is the next generation of HUMAnN (HMP Unified Metabolic Analysis Network).\n",
    "- [**HUMAnN2 Tutorial**](https://bitbucket.org/biobakery/biobakery/wiki/humann2)\n",
    "    - HUMAnN2 can be installed from PyPI, as source code from the HUMAnN2 Bitbucket repository, or using our quickstart documentation.\n",
    "- [**MetaPhlAn2 User Manual**](https://bitbucket.org/biobakery/metaphlan2/src/default/)\n",
    "    - MetaPhlAn 2: Metagenomic Phylogenetic Analysis\n",
    "- [**MetaPhlAn2 tutorial**](https://bitbucket.org/biobakery/biobakery/wiki/metaphlan2#rst-header-requirements)\n",
    "    - MetaPhlAn2 is a tool for profiling the composition of microbial communities from metagenomic shotgun sequencing data."
   ]
  },
  {
   "cell_type": "markdown",
   "metadata": {},
   "source": [
    "## Demo of HUMAnN2"
   ]
  },
  {
   "cell_type": "code",
   "execution_count": 2,
   "metadata": {},
   "outputs": [
    {
     "name": "stdout",
     "output_type": "stream",
     "text": [
      "demo_analysis.ipynb\n",
      "demo.fastq\n",
      "demo.m8\n",
      "demo.sam\n"
     ]
    }
   ],
   "source": [
    "ls -1 demo*"
   ]
  },
  {
   "cell_type": "code",
   "execution_count": 3,
   "metadata": {},
   "outputs": [
    {
     "name": "stdout",
     "output_type": "stream",
     "text": [
      "Creating output directory: /home/Proj_microbiome/examples/demo_fastq\n",
      "Output files will be written to: /home/Proj_microbiome/examples/demo_fastq\n",
      "\n",
      "Running metaphlan2.py ........\n",
      "\n",
      "Found g__Bacteroides.s__Bacteroides_dorei : 59.40% of mapped reads\n",
      "Found g__Bacteroides.s__Bacteroides_vulgatus : 40.60% of mapped reads\n",
      "\n",
      "Total species selected from prescreen: 2\n",
      "\n",
      "Selected species explain 100.00% of predicted community composition\n",
      "\n",
      "\n",
      "Creating custom ChocoPhlAn database ........\n",
      "\n",
      "\n",
      "Running bowtie2-build ........\n",
      "\n",
      "\n",
      "Running bowtie2 ........\n",
      "\n",
      "Total bugs from nucleotide alignment: 2\n",
      "g__Bacteroides.s__Bacteroides_dorei: 8820 hits\n",
      "g__Bacteroides.s__Bacteroides_vulgatus: 7336 hits\n",
      "\n",
      "Total gene families from nucleotide alignment: 3685\n",
      "\n",
      "Unaligned reads after nucleotide alignment: 23.0666666667 %\n",
      "\n",
      "\n",
      "Running diamond ........\n",
      "\n",
      "\n",
      "Aligning to reference database: uniref90_demo_prots.dmnd\n",
      "\n",
      "Total bugs after translated alignment: 3\n",
      "g__Bacteroides.s__Bacteroides_dorei: 8820 hits\n",
      "g__Bacteroides.s__Bacteroides_vulgatus: 7336 hits\n",
      "unclassified: 974 hits\n",
      "\n",
      "Total gene families after translated alignment: 3728\n",
      "\n",
      "Unaligned reads after translated alignment: 18.5571428571 %\n",
      "\n",
      "\n",
      "Computing gene families ...\n",
      "\n",
      "Computing pathways abundance and coverage ...\n",
      "\n",
      "Output files created: \n",
      "/home/Proj_microbiome/examples/demo_fastq/demo_genefamilies.tsv\n",
      "/home/Proj_microbiome/examples/demo_fastq/demo_pathabundance.tsv\n",
      "/home/Proj_microbiome/examples/demo_fastq/demo_pathcoverage.tsv\n",
      "\n"
     ]
    }
   ],
   "source": [
    "humann2 --input demo.fastq --output demo_fastq"
   ]
  },
  {
   "cell_type": "code",
   "execution_count": null,
   "metadata": {},
   "outputs": [],
   "source": []
  }
 ],
 "metadata": {
  "kernelspec": {
   "display_name": "Bash",
   "language": "bash",
   "name": "bash"
  },
  "language_info": {
   "codemirror_mode": "shell",
   "file_extension": ".sh",
   "mimetype": "text/x-sh",
   "name": "bash"
  }
 },
 "nbformat": 4,
 "nbformat_minor": 4
}
